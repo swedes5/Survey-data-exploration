{
 "cells": [
  {
   "cell_type": "code",
   "execution_count": 1,
   "id": "5b9ddec6-42f1-4127-bc20-85e709dd9f7b",
   "metadata": {},
   "outputs": [],
   "source": [
    "import pandas as pd\n",
    "import numpy as np"
   ]
  },
  {
   "cell_type": "code",
   "execution_count": 2,
   "id": "90b927a2-9f1c-49e2-9273-a3b07082473c",
   "metadata": {},
   "outputs": [],
   "source": [
    "df = pd.read_csv('diabetes_binary_health_indicators_BRFSS2015.csv')"
   ]
  },
  {
   "cell_type": "code",
   "execution_count": 3,
   "id": "aa0d169c-2a15-421d-b2ee-762fbf903285",
   "metadata": {},
   "outputs": [
    {
     "data": {
      "text/html": [
       "<div>\n",
       "<style scoped>\n",
       "    .dataframe tbody tr th:only-of-type {\n",
       "        vertical-align: middle;\n",
       "    }\n",
       "\n",
       "    .dataframe tbody tr th {\n",
       "        vertical-align: top;\n",
       "    }\n",
       "\n",
       "    .dataframe thead th {\n",
       "        text-align: right;\n",
       "    }\n",
       "</style>\n",
       "<table border=\"1\" class=\"dataframe\">\n",
       "  <thead>\n",
       "    <tr style=\"text-align: right;\">\n",
       "      <th></th>\n",
       "      <th>Diabetes_binary</th>\n",
       "      <th>HighBP</th>\n",
       "      <th>HighChol</th>\n",
       "      <th>CholCheck</th>\n",
       "      <th>BMI</th>\n",
       "      <th>Smoker</th>\n",
       "      <th>Stroke</th>\n",
       "      <th>HeartDiseaseorAttack</th>\n",
       "      <th>PhysActivity</th>\n",
       "      <th>Fruits</th>\n",
       "      <th>...</th>\n",
       "      <th>AnyHealthcare</th>\n",
       "      <th>NoDocbcCost</th>\n",
       "      <th>GenHlth</th>\n",
       "      <th>MentHlth</th>\n",
       "      <th>PhysHlth</th>\n",
       "      <th>DiffWalk</th>\n",
       "      <th>Sex</th>\n",
       "      <th>Age</th>\n",
       "      <th>Education</th>\n",
       "      <th>Income</th>\n",
       "    </tr>\n",
       "  </thead>\n",
       "  <tbody>\n",
       "    <tr>\n",
       "      <th>0</th>\n",
       "      <td>0.0</td>\n",
       "      <td>1.0</td>\n",
       "      <td>1.0</td>\n",
       "      <td>1.0</td>\n",
       "      <td>40.0</td>\n",
       "      <td>1.0</td>\n",
       "      <td>0.0</td>\n",
       "      <td>0.0</td>\n",
       "      <td>0.0</td>\n",
       "      <td>0.0</td>\n",
       "      <td>...</td>\n",
       "      <td>1.0</td>\n",
       "      <td>0.0</td>\n",
       "      <td>5.0</td>\n",
       "      <td>18.0</td>\n",
       "      <td>15.0</td>\n",
       "      <td>1.0</td>\n",
       "      <td>0.0</td>\n",
       "      <td>9.0</td>\n",
       "      <td>4.0</td>\n",
       "      <td>3.0</td>\n",
       "    </tr>\n",
       "    <tr>\n",
       "      <th>1</th>\n",
       "      <td>0.0</td>\n",
       "      <td>0.0</td>\n",
       "      <td>0.0</td>\n",
       "      <td>0.0</td>\n",
       "      <td>25.0</td>\n",
       "      <td>1.0</td>\n",
       "      <td>0.0</td>\n",
       "      <td>0.0</td>\n",
       "      <td>1.0</td>\n",
       "      <td>0.0</td>\n",
       "      <td>...</td>\n",
       "      <td>0.0</td>\n",
       "      <td>1.0</td>\n",
       "      <td>3.0</td>\n",
       "      <td>0.0</td>\n",
       "      <td>0.0</td>\n",
       "      <td>0.0</td>\n",
       "      <td>0.0</td>\n",
       "      <td>7.0</td>\n",
       "      <td>6.0</td>\n",
       "      <td>1.0</td>\n",
       "    </tr>\n",
       "    <tr>\n",
       "      <th>2</th>\n",
       "      <td>0.0</td>\n",
       "      <td>1.0</td>\n",
       "      <td>1.0</td>\n",
       "      <td>1.0</td>\n",
       "      <td>28.0</td>\n",
       "      <td>0.0</td>\n",
       "      <td>0.0</td>\n",
       "      <td>0.0</td>\n",
       "      <td>0.0</td>\n",
       "      <td>1.0</td>\n",
       "      <td>...</td>\n",
       "      <td>1.0</td>\n",
       "      <td>1.0</td>\n",
       "      <td>5.0</td>\n",
       "      <td>30.0</td>\n",
       "      <td>30.0</td>\n",
       "      <td>1.0</td>\n",
       "      <td>0.0</td>\n",
       "      <td>9.0</td>\n",
       "      <td>4.0</td>\n",
       "      <td>8.0</td>\n",
       "    </tr>\n",
       "    <tr>\n",
       "      <th>3</th>\n",
       "      <td>0.0</td>\n",
       "      <td>1.0</td>\n",
       "      <td>0.0</td>\n",
       "      <td>1.0</td>\n",
       "      <td>27.0</td>\n",
       "      <td>0.0</td>\n",
       "      <td>0.0</td>\n",
       "      <td>0.0</td>\n",
       "      <td>1.0</td>\n",
       "      <td>1.0</td>\n",
       "      <td>...</td>\n",
       "      <td>1.0</td>\n",
       "      <td>0.0</td>\n",
       "      <td>2.0</td>\n",
       "      <td>0.0</td>\n",
       "      <td>0.0</td>\n",
       "      <td>0.0</td>\n",
       "      <td>0.0</td>\n",
       "      <td>11.0</td>\n",
       "      <td>3.0</td>\n",
       "      <td>6.0</td>\n",
       "    </tr>\n",
       "    <tr>\n",
       "      <th>4</th>\n",
       "      <td>0.0</td>\n",
       "      <td>1.0</td>\n",
       "      <td>1.0</td>\n",
       "      <td>1.0</td>\n",
       "      <td>24.0</td>\n",
       "      <td>0.0</td>\n",
       "      <td>0.0</td>\n",
       "      <td>0.0</td>\n",
       "      <td>1.0</td>\n",
       "      <td>1.0</td>\n",
       "      <td>...</td>\n",
       "      <td>1.0</td>\n",
       "      <td>0.0</td>\n",
       "      <td>2.0</td>\n",
       "      <td>3.0</td>\n",
       "      <td>0.0</td>\n",
       "      <td>0.0</td>\n",
       "      <td>0.0</td>\n",
       "      <td>11.0</td>\n",
       "      <td>5.0</td>\n",
       "      <td>4.0</td>\n",
       "    </tr>\n",
       "  </tbody>\n",
       "</table>\n",
       "<p>5 rows × 22 columns</p>\n",
       "</div>"
      ],
      "text/plain": [
       "   Diabetes_binary  HighBP  HighChol  CholCheck   BMI  Smoker  Stroke  \\\n",
       "0              0.0     1.0       1.0        1.0  40.0     1.0     0.0   \n",
       "1              0.0     0.0       0.0        0.0  25.0     1.0     0.0   \n",
       "2              0.0     1.0       1.0        1.0  28.0     0.0     0.0   \n",
       "3              0.0     1.0       0.0        1.0  27.0     0.0     0.0   \n",
       "4              0.0     1.0       1.0        1.0  24.0     0.0     0.0   \n",
       "\n",
       "   HeartDiseaseorAttack  PhysActivity  Fruits  ...  AnyHealthcare  \\\n",
       "0                   0.0           0.0     0.0  ...            1.0   \n",
       "1                   0.0           1.0     0.0  ...            0.0   \n",
       "2                   0.0           0.0     1.0  ...            1.0   \n",
       "3                   0.0           1.0     1.0  ...            1.0   \n",
       "4                   0.0           1.0     1.0  ...            1.0   \n",
       "\n",
       "   NoDocbcCost  GenHlth  MentHlth  PhysHlth  DiffWalk  Sex   Age  Education  \\\n",
       "0          0.0      5.0      18.0      15.0       1.0  0.0   9.0        4.0   \n",
       "1          1.0      3.0       0.0       0.0       0.0  0.0   7.0        6.0   \n",
       "2          1.0      5.0      30.0      30.0       1.0  0.0   9.0        4.0   \n",
       "3          0.0      2.0       0.0       0.0       0.0  0.0  11.0        3.0   \n",
       "4          0.0      2.0       3.0       0.0       0.0  0.0  11.0        5.0   \n",
       "\n",
       "   Income  \n",
       "0     3.0  \n",
       "1     1.0  \n",
       "2     8.0  \n",
       "3     6.0  \n",
       "4     4.0  \n",
       "\n",
       "[5 rows x 22 columns]"
      ]
     },
     "execution_count": 3,
     "metadata": {},
     "output_type": "execute_result"
    }
   ],
   "source": [
    "df.head()"
   ]
  },
  {
   "cell_type": "code",
   "execution_count": 4,
   "id": "186aa74f-ab0e-4c4f-b371-1f1192e4581b",
   "metadata": {},
   "outputs": [
    {
     "data": {
      "text/plain": [
       "Index(['Diabetes_binary', 'HighBP', 'HighChol', 'CholCheck', 'BMI', 'Smoker',\n",
       "       'Stroke', 'HeartDiseaseorAttack', 'PhysActivity', 'Fruits', 'Veggies',\n",
       "       'HvyAlcoholConsump', 'AnyHealthcare', 'NoDocbcCost', 'GenHlth',\n",
       "       'MentHlth', 'PhysHlth', 'DiffWalk', 'Sex', 'Age', 'Education',\n",
       "       'Income'],\n",
       "      dtype='object')"
      ]
     },
     "execution_count": 4,
     "metadata": {},
     "output_type": "execute_result"
    }
   ],
   "source": [
    "df.columns\n",
    "#note that 0 is no diabetes, 1 is yes prediabetes or diabetes"
   ]
  },
  {
   "cell_type": "code",
   "execution_count": 5,
   "id": "78b92c2d-a354-4846-84ea-a3904bbe4790",
   "metadata": {},
   "outputs": [],
   "source": [
    "#import sk learn train test split, split into train and test data\n",
    "#import sk learn regression, see if we can run a predict on the variables\n",
    "#try logistic regression b/c 1 and 0 and compare to linear regression\n",
    "from sklearn.model_selection import train_test_split\n",
    "from sklearn.linear_model import LogisticRegression\n",
    "from sklearn.linear_model import LinearRegression"
   ]
  },
  {
   "cell_type": "code",
   "execution_count": 6,
   "id": "c855c9ac-ba72-484c-8ee1-04058f844034",
   "metadata": {},
   "outputs": [],
   "source": [
    "#splitting data 70 train 30 test first\n",
    "#y is predicted variable, X are the feature variables (the rest of the columns)\n",
    "y = df['Diabetes_binary']\n",
    "X = df.drop(columns = ['Diabetes_binary'])\n",
    "\n",
    "X_train, X_test, y_train, y_test = train_test_split(X, y, test_size=.2, random_state=42)"
   ]
  },
  {
   "cell_type": "code",
   "execution_count": 7,
   "id": "a3be6ee2-901e-42e1-a886-5aba8a5564a1",
   "metadata": {},
   "outputs": [],
   "source": [
    "#calling logistic regression model as log_model\n",
    "#fitting the model with the training data\n",
    "#note had to increase the max iterations (i think because of the large data size)\n",
    "\n",
    "log_model = LogisticRegression(random_state=0, max_iter=1000).fit(X_train, y_train)"
   ]
  },
  {
   "cell_type": "code",
   "execution_count": 8,
   "id": "7184f820-eaa1-4411-a9af-25758d537a0a",
   "metadata": {},
   "outputs": [],
   "source": [
    "#predicting the specific probability for the first 10 people to have diabetes based on the model\n",
    "people10 = log_model.predict_proba(X_test[:10])\n",
    "people10\n",
    "\n",
    "log_model_y_pred = log_model.predict(X_test)  #this is just predicting each y value of X_test, 0 or 1"
   ]
  },
  {
   "cell_type": "code",
   "execution_count": 9,
   "id": "4fde6371-4220-4a84-97d1-0ce82f21f4d8",
   "metadata": {},
   "outputs": [
    {
     "name": "stdout",
     "output_type": "stream",
     "text": [
      "0.8658152002522863\n"
     ]
    }
   ],
   "source": [
    "#scoring the log_model\n",
    "log_model_score = log_model.score(X_test, y_test)\n",
    "print(log_model_score)\n",
    "\n",
    "#score of .8652 with .3 test size"
   ]
  },
  {
   "cell_type": "code",
   "execution_count": 10,
   "id": "a2fa6c73-e28f-460a-aec0-be76c07e6eaf",
   "metadata": {},
   "outputs": [
    {
     "name": "stdout",
     "output_type": "stream",
     "text": [
      "the number of people with diabetes is: 35346\n",
      "the number of people without diabetes is: 218334\n",
      "the number of people in the survey is: 253680\n"
     ]
    }
   ],
   "source": [
    "#importing a few other metrics to check them out because the dataset is not balanced. \n",
    "#i think recall would be an interesting metric, i want to know how many of the people with diabetes the model is able to identify\n",
    "#recall is #true positives/#all actual positives so it will tell what percentage of diabetics the model is able to identify\n",
    "print('the number of people with diabetes is: ' + str(len(df.loc[df['Diabetes_binary']==1.0])))\n",
    "print('the number of people without diabetes is: ' + str(len(df.loc[df['Diabetes_binary']==0.0])))\n",
    "print('the number of people in the survey is: ' + str(len(df['Diabetes_binary']==0.0)))\n",
    "\n",
    "from sklearn.metrics import recall_score\n",
    "from sklearn.metrics import f1_score\n",
    "from sklearn.metrics import precision_score"
   ]
  },
  {
   "cell_type": "code",
   "execution_count": 11,
   "id": "38ff95e1-55d7-434e-92c5-257efb4e9fac",
   "metadata": {},
   "outputs": [
    {
     "name": "stdout",
     "output_type": "stream",
     "text": [
      "the accuracy score of the log model is 0.8658152002522863\n",
      "the recall score of the log model is 0.16507074460483065\n",
      "the precision score of the log model is 0.5445544554455446\n",
      "the f1 score of the log model is 0.25334503180522044\n"
     ]
    }
   ],
   "source": [
    "#rerunning different split sizes to see if we can improve the score\n",
    "#it seems like a training size of .85 and .15 test is best slightly, can go with the 80-20 rule with not much performance loss (about .06%) for simplicity\n",
    "y = df['Diabetes_binary']\n",
    "X = df.drop(columns = ['Diabetes_binary'])\n",
    "\n",
    "X_train, X_test, y_train, y_test = train_test_split(X, y, test_size=.2, random_state=42)\n",
    "\n",
    "log_model = LogisticRegression(random_state=0, max_iter=1000).fit(X_train, y_train)\n",
    "\n",
    "log_model_score = log_model.score(X_test, y_test)\n",
    "log_model_recall = recall_score(y_test, log_model_y_pred)\n",
    "log_model_precision = precision_score(y_test, log_model_y_pred)\n",
    "log_model_f1 = f1_score(y_test, log_model_y_pred)\n",
    "print('the accuracy score of the log model is ' + str(log_model_score))\n",
    "print('the recall score of the log model is ' + str(log_model_recall))\n",
    "print('the precision score of the log model is ' + str(log_model_precision))\n",
    "print('the f1 score of the log model is ' + str(log_model_f1))\n",
    "#score of .8658 with .2 test size"
   ]
  },
  {
   "cell_type": "code",
   "execution_count": 12,
   "id": "a42d4e36-72f8-4475-889c-54ddf735c7dd",
   "metadata": {},
   "outputs": [],
   "source": [
    "#high accuracy may be a misleading stat in this case because there are more negatives than positives in this unbalanced dataset\n",
    "\n",
    "#low recall makes it seem like my model is missing many cases where the person has diabetes, its only able to find 16.5% of positives\n",
    "\n",
    "#approx .54 precision seems like the model is almost flipping a coin when it flags a case as positive"
   ]
  },
  {
   "cell_type": "markdown",
   "id": "218826b4-fd01-43be-ba00-43b467ad57fd",
   "metadata": {},
   "source": [
    "Accuracy = correct predictions / sum of all observations\n",
    "\n",
    "recall = true positives / all actual positives\n",
    "\n",
    "precision = true positives / all predicted positives\n",
    "\n",
    "f1 score = a blend of precision and recall"
   ]
  },
  {
   "cell_type": "code",
   "execution_count": 13,
   "id": "df0549dd-b839-4111-8fa3-e488026f19c8",
   "metadata": {},
   "outputs": [],
   "source": [
    "#ill try a linear regression as well and compare the metrics ="
   ]
  },
  {
   "cell_type": "code",
   "execution_count": 14,
   "id": "a6fb07c9-f716-4637-b8eb-04d8a2e840c5",
   "metadata": {},
   "outputs": [
    {
     "name": "stdout",
     "output_type": "stream",
     "text": [
      "the accuracy score of the lin model is 0.16269021365974368\n"
     ]
    }
   ],
   "source": [
    "y = df['Diabetes_binary']\n",
    "X = df.drop(columns = ['Diabetes_binary'])\n",
    "\n",
    "X_train, X_test, y_train, y_test = train_test_split(X, y, test_size=.2, random_state=42)\n",
    "\n",
    "lin_model = LinearRegression().fit(X_train, y_train)\n",
    "\n",
    "lin_model_y_pred = lin_model.predict(X_test)\n",
    "\n",
    "lin_model_score = lin_model.score(X_test, y_test)\n",
    "#lin_model_recall = recall_score(y_test, lin_model_y_pred)\n",
    "#lin_model_precision = precision_score(y_test, lin_model_y_pred)\n",
    "#lin_model_f1 = f1_score(y_test, lin_model_y_pred)\n",
    "print('the accuracy score of the lin model is ' + str(lin_model_score))\n",
    "#print('the recall score of the lin model is ' + str(lin_model_recall))\n",
    "#print('the precision score of the lin model is ' + str(lin_model_precision))\n",
    "#print('the f1 score of the lin model is ' + str(lin_model_f1))"
   ]
  },
  {
   "cell_type": "code",
   "execution_count": 15,
   "id": "4d747dce-ebfd-4b42-a0c0-87a26d3c634b",
   "metadata": {},
   "outputs": [
    {
     "name": "stdout",
     "output_type": "stream",
     "text": [
      "Requirement already satisfied: xgboost in c:\\users\\erikc\\anaconda3.1\\lib\\site-packages (1.7.5)\n",
      "Requirement already satisfied: numpy in c:\\users\\erikc\\anaconda3.1\\lib\\site-packages (from xgboost) (1.20.3)\n",
      "Requirement already satisfied: scipy in c:\\users\\erikc\\anaconda3.1\\lib\\site-packages (from xgboost) (1.7.1)\n"
     ]
    }
   ],
   "source": [
    "#trying a boosting model\n",
    "!pip install xgboost"
   ]
  },
  {
   "cell_type": "code",
   "execution_count": 16,
   "id": "a73b7242-0208-43eb-bced-b3c2cd833cbd",
   "metadata": {},
   "outputs": [],
   "source": [
    "import xgboost as xgb"
   ]
  },
  {
   "cell_type": "code",
   "execution_count": 17,
   "id": "e748c8bb-11ff-412a-8d5c-1bde772a40e9",
   "metadata": {},
   "outputs": [],
   "source": [
    "# XGBoost (different learning rate)\n",
    "learning_rate_range = np.arange(0.01, 1, 0.05)\n",
    "test_XG = [] \n",
    "train_XG = []\n",
    "for lr in learning_rate_range:\n",
    "    xgb_classifier = xgb.XGBClassifier(eta = lr, eval_metric='error')\n",
    "    xgb_classifier.fit(X_train, y_train)\n",
    "    train_XG.append(xgb_classifier.score(X_train, y_train))\n",
    "    test_XG.append(xgb_classifier.score(X_test, y_test))"
   ]
  },
  {
   "cell_type": "code",
   "execution_count": 18,
   "id": "3224ccac-9f32-436e-82a7-52bc7d82f1dc",
   "metadata": {},
   "outputs": [
    {
     "data": {
      "image/png": "[encoded data removed]",
      "text/plain": [
       "<Figure size 720x504 with 1 Axes>"
      ]
     },
     "metadata": {
      "needs_background": "light"
     },
     "output_type": "display_data"
    }
   ],
   "source": [
    "import matplotlib.pyplot as plt\n",
    "\n",
    "fig = plt.figure(figsize=(10, 7))\n",
    "plt.plot(learning_rate_range, train_XG, c='orange', label='Train')\n",
    "plt.plot(learning_rate_range, test_XG, c='m', label='Test')\n",
    "plt.xlabel('Learning rate')\n",
    "plt.xticks(learning_rate_range)\n",
    "plt.ylabel('Accuracy score')\n",
    "plt.ylim(0.6, 1)\n",
    "plt.legend(prop={'size': 12}, loc=3)\n",
    "plt.title('Accuracy score vs. Learning rate of XGBoost', size=14)\n",
    "plt.show()"
   ]
  },
  {
   "cell_type": "code",
   "execution_count": 19,
   "id": "c69242f6-30f6-4cbb-9f4a-8847435347e7",
   "metadata": {},
   "outputs": [
    {
     "name": "stdout",
     "output_type": "stream",
     "text": [
      "the recall score of the xgboost model is: 0.19708446477061597\n",
      "the precision score of the xgboost model is: 0.488141592920354\n",
      "the f1 score of the xgboost model is: 0.28079820810425576\n"
     ]
    }
   ],
   "source": [
    "xgb_classifier_predictions = xgb_classifier.predict(X_test)\n",
    "\n",
    "xgb_classifier_predictions = [round(value) for value in xgb_classifier_predictions]\n",
    "\n",
    "xgb_recall = recall_score(y_test, xgb_classifier_predictions)\n",
    "print('the recall score of the xgboost model is: ' + str(xgb_recall))\n",
    "xgb_precision = precision_score(y_test, xgb_classifier_predictions)\n",
    "print('the precision score of the xgboost model is: ' + str(xgb_precision))\n",
    "xgb_f1 = f1_score(y_test, xgb_classifier_predictions)\n",
    "print('the f1 score of the xgboost model is: ' + str(xgb_f1))"
   ]
  },
  {
   "cell_type": "code",
   "execution_count": null,
   "id": "ccb19dc6-1bac-4ebb-be22-fe8361b989c1",
   "metadata": {},
   "outputs": [],
   "source": []
  },
  {
   "cell_type": "markdown",
   "id": "762d45dd-7a8e-405b-994e-c65d1adaefb9",
   "metadata": {},
   "source": [
    "# new learning rate range, keeps crashing my pc so not going to run it for now\n",
    "learning_rate_range = np.arange(0.01, 0.5, 0.05)\n",
    "fig = plt.figure(figsize=(19, 17))\n",
    "idx = 1\n",
    "# grid search for min_child_weight\n",
    "for weight in np.arange(0, 4.5, 0.5):\n",
    "    train = []\n",
    "    test = []\n",
    "    for lr in learning_rate_range:\n",
    "        xgb_classifier = xgb.XGBClassifier(eta = lr, reg_lambda=1, min_child_weight=weight)\n",
    "        xgb_classifier.fit(X_train, y_train)\n",
    "        train.append(xgb_classifier.score(X_train, y_train))\n",
    "        test.append(xgb_classifier.score(X_test, y_test))\n",
    "    fig.add_subplot(3, 3, idx)\n",
    "    idx += 1\n",
    "    plt.plot(learning_rate_range, train, c='orange', label='Training')\n",
    "    plt.plot(learning_rate_range, test, c='m', label='Testing')\n",
    "    plt.xlabel('Learning rate')\n",
    "    plt.xticks(learning_rate_range)\n",
    "    plt.ylabel('Accuracy score')\n",
    "    plt.ylim(0.6, 1)\n",
    "    plt.legend(prop={'size': 12}, loc=3)\n",
    "    title = \"Min child weight:\" + str(weight)\n",
    "    plt.title(title, size=16)\n",
    "plt.show()"
   ]
  },
  {
   "cell_type": "code",
   "execution_count": 20,
   "id": "454055e0-47d3-4e20-981d-450c2edf28f7",
   "metadata": {},
   "outputs": [],
   "source": [
    "#out of the box, the boost model performed a bit better than the logreg... but not by much"
   ]
  },
  {
   "cell_type": "code",
   "execution_count": 21,
   "id": "0479ccc3-b05c-4598-8f4e-106009f1057c",
   "metadata": {},
   "outputs": [],
   "source": [
    "#now trying random forest\n",
    "from sklearn.ensemble import RandomForestClassifier\n",
    "\n",
    "rfc = RandomForestClassifier(max_depth=2, random_state=0)\n",
    "\n",
    "rfc.fit(X_train, y_train)\n",
    "\n",
    "rfc_predictions = rfc.predict(X_test)\n",
    "rfc_predictions = [round(value) for value in rfc_predictions]"
   ]
  },
  {
   "cell_type": "code",
   "execution_count": 22,
   "id": "c1ec58dc-6e3d-4376-a8f0-ace40b2c463c",
   "metadata": {},
   "outputs": [
    {
     "name": "stdout",
     "output_type": "stream",
     "text": [
      "the recall score of the random forest model is: 1.0\n",
      "the precision score of the random forest model is: 0.8620900346893724\n",
      "the f1 score of the random forest model is: 0.9259380788568403\n"
     ]
    }
   ],
   "source": [
    "rfc_recall = recall_score(y_test, rfc_predictions, average='weighted', labels=np.unique(rfc_predictions))\n",
    "print('the recall score of the random forest model is: ' + str(rfc_recall))\n",
    "rfc_precision = precision_score(y_test, rfc_predictions, average='weighted', labels=np.unique(rfc_predictions))\n",
    "print('the precision score of the random forest model is: ' + str(rfc_precision))\n",
    "rfc_f1 = f1_score(y_test, rfc_predictions, average='weighted', labels=np.unique(rfc_predictions))\n",
    "print('the f1 score of the random forest model is: ' + str(rfc_f1))"
   ]
  },
  {
   "cell_type": "markdown",
   "id": "5214df16-5b5a-4af7-be96-1fa1c693fee4",
   "metadata": {},
   "source": [
    "since the precision is .86, the model predicted more people to not have diabetes than there are really people without it.  EX: some people were labelled diabetes-free\n",
    "but they actually have diabetes.  \n",
    "\n",
    "The recall is perfect because there were no false negatives (this is because it looks like the random forest is only predicting \"no diabetes\")\n",
    "\n"
   ]
  },
  {
   "cell_type": "code",
   "execution_count": 23,
   "id": "754ea46d-af25-4a9f-a610-6f55dfaaab87",
   "metadata": {},
   "outputs": [
    {
     "name": "stdout",
     "output_type": "stream",
     "text": [
      "0.8620900346893724\n"
     ]
    }
   ],
   "source": [
    "print(rfc.score(X_test, y_test))"
   ]
  },
  {
   "cell_type": "code",
   "execution_count": null,
   "id": "2fae5124-3577-4650-a439-125f8486d163",
   "metadata": {},
   "outputs": [],
   "source": [
    "rfc_predictions"
   ]
  },
  {
   "cell_type": "code",
   "execution_count": 25,
   "id": "3f776359-2359-4ad8-953a-cb076454173d",
   "metadata": {},
   "outputs": [
    {
     "name": "stdout",
     "output_type": "stream",
     "text": [
      "1\n",
      "2\n"
     ]
    }
   ],
   "source": [
    "print(len(np.unique(rfc_predictions)))\n",
    "print(len(np.unique(y_test)))"
   ]
  },
  {
   "cell_type": "code",
   "execution_count": 26,
   "id": "ecf37472-75fc-4522-bb22-4c90255b4cb7",
   "metadata": {},
   "outputs": [
    {
     "name": "stdout",
     "output_type": "stream",
     "text": [
      "[0]\n"
     ]
    }
   ],
   "source": [
    "print(np.unique(rfc_predictions))"
   ]
  },
  {
   "cell_type": "code",
   "execution_count": 27,
   "id": "a3f03541-4ae5-459d-8b1e-a1de599d0e0e",
   "metadata": {},
   "outputs": [],
   "source": [
    "from scipy.stats.stats import pearsonr"
   ]
  },
  {
   "cell_type": "code",
   "execution_count": 28,
   "id": "25d24b8b-fb22-4bfb-a6fe-9d1ff8b02b98",
   "metadata": {},
   "outputs": [
    {
     "name": "stdout",
     "output_type": "stream",
     "text": [
      "correlation coef: 0.26228223387373634 p value: (0.2622822338738764, 0.0)\n",
      "correlation coef: 0.1973449850367364 p value: (0.19734498503677317, 0.0)\n",
      "correlation coef: 0.06477696370930751 p value: (0.06477696370936722, 1.362363569765314e-187)\n",
      "correlation coef: 0.21741072589838062 p value: (0.21741072589843904, 0.0)\n",
      "correlation coef: 0.062158040888684145 p value: (0.06215804088867371, 7.264447583709721e-173)\n",
      "correlation coef: 0.10731356587237616 p value: (0.1073135658724619, 0.0)\n",
      "correlation coef: 0.17896191645847703 p value: (0.17896191645853915, 0.0)\n",
      "correlation coef: -0.1181766065759915 p value: (-0.11817660657603714, 0.0)\n",
      "correlation coef: -0.03960199163971241 p value: (-0.03960199163972564, 3.0327934423733287e-71)\n",
      "correlation coef: -0.05686140691366042 p value: (-0.056861406913700854, 6.018195306069656e-145)\n",
      "correlation coef: -0.05583923644932997 p value: (-0.055839236449317334, 7.588018511039924e-140)\n",
      "correlation coef: 0.015831070818247084 p value: (0.015831070818253194, 9.878397537344238e-13)\n",
      "correlation coef: 0.03270704600755132 p value: (0.03270704600753878, 3.666962443188503e-49)\n",
      "correlation coef: 0.2929995776090082 p value: (0.29299957760910156, 0.0)\n",
      "correlation coef: 0.0699052277654105 p value: (0.06990522776541144, 3.350179106702786e-218)\n",
      "correlation coef: 0.1710670697445335 p value: (0.1710670697445845, 0.0)\n",
      "correlation coef: 0.22045705936545165 p value: (0.22045705936543059, 0.0)\n",
      "correlation coef: 0.03190557569423892 p value: (0.031905575694259225, 7.235147925341625e-47)\n",
      "correlation coef: 0.17703168276374817 p value: (0.1770316827637743, 0.0)\n",
      "correlation coef: -0.12447832062964706 p value: (-0.12447832062964682, 0.0)\n",
      "correlation coef: -0.16401330274180398 p value: (-0.1640133027418026, 0.0)\n"
     ]
    }
   ],
   "source": [
    "#check correlation of each feature variable with target variable\n",
    "#p value less than .05 indicates a statistically significant correlation\n",
    "#correlation coefficient 1 is perfectly correlated, -1 is perfectly non correlated, 0 is not correlated\n",
    "\n",
    "for i in range(0,21):\n",
    "    correlation_Xy = np.corrcoef(X_train.iloc[:,i], y_train)[0,1]\n",
    "    p_value = pearsonr(X_train.iloc[:,i], y_train)\n",
    "    print('correlation coef: ' + str(correlation_Xy) + ' ' +\n",
    "         'p value: ' + str(p_value))"
   ]
  },
  {
   "cell_type": "code",
   "execution_count": 29,
   "id": "4fd7c246-f4ce-474f-84a3-4bf3cd37a4ec",
   "metadata": {},
   "outputs": [],
   "source": [
    "#check to see if each correlation is statistically significant, if p-value < .05 it is significant correlation"
   ]
  },
  {
   "cell_type": "code",
   "execution_count": null,
   "id": "513ab78e-3a67-45ad-a390-e4ea4107fbd2",
   "metadata": {},
   "outputs": [],
   "source": []
  },
  {
   "cell_type": "code",
   "execution_count": 30,
   "id": "42f71b2a-adea-4f9d-9a1e-ee315af8299e",
   "metadata": {},
   "outputs": [
    {
     "data": {
      "text/plain": [
       "pandas.core.frame.DataFrame"
      ]
     },
     "execution_count": 30,
     "metadata": {},
     "output_type": "execute_result"
    }
   ],
   "source": [
    "type(X_test)"
   ]
  },
  {
   "cell_type": "code",
   "execution_count": 40,
   "id": "b49aa3b6-da36-4f85-9403-671d732987f0",
   "metadata": {},
   "outputs": [],
   "source": [
    "#splitting df into 10 samples with more equal wieghts\n",
    "n = 1000\n",
    "\n",
    "\n",
    "df_diabetes = df.loc[df['Diabetes_binary'] == 1.0]\n",
    "df_1k_diabetes = df_diabetes.iloc[:n]\n",
    "\n",
    "df_healthy = df.loc[df['Diabetes_binary'] == 0.0]\n",
    "df_1k_healthy = df_healthy.iloc[:n]"
   ]
  },
  {
   "cell_type": "code",
   "execution_count": 46,
   "id": "c0598ef0-1e2c-49f5-935e-cbf17d65145f",
   "metadata": {},
   "outputs": [
    {
     "data": {
      "text/plain": [
       "(218334, 22)"
      ]
     },
     "execution_count": 46,
     "metadata": {},
     "output_type": "execute_result"
    }
   ],
   "source": [
    "df_healthy.shape"
   ]
  },
  {
   "cell_type": "code",
   "execution_count": 45,
   "id": "f4428715-75f0-4a36-bcad-18684a202b43",
   "metadata": {},
   "outputs": [
    {
     "data": {
      "text/plain": [
       "(35346, 22)"
      ]
     },
     "execution_count": 45,
     "metadata": {},
     "output_type": "execute_result"
    }
   ],
   "source": [
    "df_diabetes.shape"
   ]
  },
  {
   "cell_type": "code",
   "execution_count": 49,
   "id": "7aba9910-460a-46f7-9795-81cf50e51c58",
   "metadata": {},
   "outputs": [],
   "source": [
    "#randomly selecting a sample from the healthy df that makes the data essentially balanced then recombining to one df\n",
    "df_healthy_ew = df_healthy.sample(frac=0.16)\n",
    "\n",
    "df_balanced = pd.concat([df_healthy_ew, df_diabetes], axis=0)"
   ]
  },
  {
   "cell_type": "code",
   "execution_count": 55,
   "id": "733e8c82-b83f-4d4d-959b-6d71dcc4aab6",
   "metadata": {},
   "outputs": [
    {
     "data": {
      "text/html": [
       "<div>\n",
       "<style scoped>\n",
       "    .dataframe tbody tr th:only-of-type {\n",
       "        vertical-align: middle;\n",
       "    }\n",
       "\n",
       "    .dataframe tbody tr th {\n",
       "        vertical-align: top;\n",
       "    }\n",
       "\n",
       "    .dataframe thead th {\n",
       "        text-align: right;\n",
       "    }\n",
       "</style>\n",
       "<table border=\"1\" class=\"dataframe\">\n",
       "  <thead>\n",
       "    <tr style=\"text-align: right;\">\n",
       "      <th></th>\n",
       "      <th>HighBP</th>\n",
       "      <th>HighChol</th>\n",
       "      <th>CholCheck</th>\n",
       "      <th>BMI</th>\n",
       "      <th>Smoker</th>\n",
       "      <th>Stroke</th>\n",
       "      <th>HeartDiseaseorAttack</th>\n",
       "      <th>PhysActivity</th>\n",
       "      <th>Fruits</th>\n",
       "      <th>Veggies</th>\n",
       "      <th>...</th>\n",
       "      <th>AnyHealthcare</th>\n",
       "      <th>NoDocbcCost</th>\n",
       "      <th>GenHlth</th>\n",
       "      <th>MentHlth</th>\n",
       "      <th>PhysHlth</th>\n",
       "      <th>DiffWalk</th>\n",
       "      <th>Sex</th>\n",
       "      <th>Age</th>\n",
       "      <th>Education</th>\n",
       "      <th>Income</th>\n",
       "    </tr>\n",
       "    <tr>\n",
       "      <th>Diabetes_binary</th>\n",
       "      <th></th>\n",
       "      <th></th>\n",
       "      <th></th>\n",
       "      <th></th>\n",
       "      <th></th>\n",
       "      <th></th>\n",
       "      <th></th>\n",
       "      <th></th>\n",
       "      <th></th>\n",
       "      <th></th>\n",
       "      <th></th>\n",
       "      <th></th>\n",
       "      <th></th>\n",
       "      <th></th>\n",
       "      <th></th>\n",
       "      <th></th>\n",
       "      <th></th>\n",
       "      <th></th>\n",
       "      <th></th>\n",
       "      <th></th>\n",
       "      <th></th>\n",
       "    </tr>\n",
       "  </thead>\n",
       "  <tbody>\n",
       "    <tr>\n",
       "      <th>0.0</th>\n",
       "      <td>34933</td>\n",
       "      <td>34933</td>\n",
       "      <td>34933</td>\n",
       "      <td>34933</td>\n",
       "      <td>34933</td>\n",
       "      <td>34933</td>\n",
       "      <td>34933</td>\n",
       "      <td>34933</td>\n",
       "      <td>34933</td>\n",
       "      <td>34933</td>\n",
       "      <td>...</td>\n",
       "      <td>34933</td>\n",
       "      <td>34933</td>\n",
       "      <td>34933</td>\n",
       "      <td>34933</td>\n",
       "      <td>34933</td>\n",
       "      <td>34933</td>\n",
       "      <td>34933</td>\n",
       "      <td>34933</td>\n",
       "      <td>34933</td>\n",
       "      <td>34933</td>\n",
       "    </tr>\n",
       "    <tr>\n",
       "      <th>1.0</th>\n",
       "      <td>35346</td>\n",
       "      <td>35346</td>\n",
       "      <td>35346</td>\n",
       "      <td>35346</td>\n",
       "      <td>35346</td>\n",
       "      <td>35346</td>\n",
       "      <td>35346</td>\n",
       "      <td>35346</td>\n",
       "      <td>35346</td>\n",
       "      <td>35346</td>\n",
       "      <td>...</td>\n",
       "      <td>35346</td>\n",
       "      <td>35346</td>\n",
       "      <td>35346</td>\n",
       "      <td>35346</td>\n",
       "      <td>35346</td>\n",
       "      <td>35346</td>\n",
       "      <td>35346</td>\n",
       "      <td>35346</td>\n",
       "      <td>35346</td>\n",
       "      <td>35346</td>\n",
       "    </tr>\n",
       "  </tbody>\n",
       "</table>\n",
       "<p>2 rows × 21 columns</p>\n",
       "</div>"
      ],
      "text/plain": [
       "                 HighBP  HighChol  CholCheck    BMI  Smoker  Stroke  \\\n",
       "Diabetes_binary                                                       \n",
       "0.0               34933     34933      34933  34933   34933   34933   \n",
       "1.0               35346     35346      35346  35346   35346   35346   \n",
       "\n",
       "                 HeartDiseaseorAttack  PhysActivity  Fruits  Veggies  ...  \\\n",
       "Diabetes_binary                                                       ...   \n",
       "0.0                             34933         34933   34933    34933  ...   \n",
       "1.0                             35346         35346   35346    35346  ...   \n",
       "\n",
       "                 AnyHealthcare  NoDocbcCost  GenHlth  MentHlth  PhysHlth  \\\n",
       "Diabetes_binary                                                            \n",
       "0.0                      34933        34933    34933     34933     34933   \n",
       "1.0                      35346        35346    35346     35346     35346   \n",
       "\n",
       "                 DiffWalk    Sex    Age  Education  Income  \n",
       "Diabetes_binary                                             \n",
       "0.0                 34933  34933  34933      34933   34933  \n",
       "1.0                 35346  35346  35346      35346   35346  \n",
       "\n",
       "[2 rows x 21 columns]"
      ]
     },
     "execution_count": 55,
     "metadata": {},
     "output_type": "execute_result"
    }
   ],
   "source": [
    "#checking to make sure it worked as intended\n",
    "\n",
    "df_balanced.groupby(['Diabetes_binary']).count()  # it looks like there are balanced numbers of 0.0 and 1.0 now"
   ]
  },
  {
   "cell_type": "markdown",
   "id": "fe3360dc-5f34-4dab-b268-cb6b1c4999f1",
   "metadata": {},
   "source": [
    "##########################################\n",
    "##########################################\n",
    "##########################################\n",
    "##########################################\n",
    "\n",
    "\n",
    "REUSING THE VARIABLES X AND Y (X_TRAIN/TEST AND Y_TRAIN/TEST)\n",
    "\n",
    "\n",
    "##########################################\n",
    "##########################################\n",
    "##########################################\n",
    "##########################################"
   ]
  },
  {
   "cell_type": "code",
   "execution_count": 59,
   "id": "6e82aeae-0afc-4850-bc0e-c59272e4fd9e",
   "metadata": {},
   "outputs": [],
   "source": [
    "#trying the models again\n",
    "\n",
    "\n",
    "y = df_balanced['Diabetes_binary']\n",
    "X = df_balanced.drop(columns = ['Diabetes_binary'])\n",
    "\n",
    "X_train, X_test, y_train, y_test = train_test_split(X, y, test_size=.2, random_state=42)"
   ]
  },
  {
   "cell_type": "code",
   "execution_count": 62,
   "id": "d90ef1ba-cade-4f84-8e27-6316f42f08ce",
   "metadata": {},
   "outputs": [
    {
     "name": "stdout",
     "output_type": "stream",
     "text": [
      "the accuracy score of the log model is 0.7417472965281731\n",
      "the recall score of the log model is 0.7651844578482255\n",
      "the precision score of the log model is 0.7360680070165969\n",
      "the f1 score of the log model is 0.750343878954608\n"
     ]
    }
   ],
   "source": [
    "#logistic regression\n",
    "log_model = LogisticRegression(random_state=0, max_iter=1000).fit(X_train, y_train)\n",
    "\n",
    "log_model_y_pred = log_model.predict(X_test)\n",
    "\n",
    "log_model_score = log_model.score(X_test, y_test)\n",
    "log_model_recall = recall_score(y_test, log_model_y_pred)\n",
    "log_model_precision = precision_score(y_test, log_model_y_pred)\n",
    "log_model_f1 = f1_score(y_test, log_model_y_pred)\n",
    "print('the accuracy score of the log model is ' + str(log_model_score))\n",
    "print('the recall score of the log model is ' + str(log_model_recall))\n",
    "print('the precision score of the log model is ' + str(log_model_precision))\n",
    "print('the f1 score of the log model is ' + str(log_model_f1))\n",
    "#score of .8658 with .2 test size"
   ]
  },
  {
   "cell_type": "code",
   "execution_count": 63,
   "id": "568b4b11-6dae-4afa-8de7-48edbbb72422",
   "metadata": {},
   "outputs": [
    {
     "name": "stdout",
     "output_type": "stream",
     "text": [
      "the accuracy score of the lin model is 0.3029509684175964\n"
     ]
    }
   ],
   "source": [
    "#linear Regression\n",
    "lin_model = LinearRegression().fit(X_train, y_train)\n",
    "\n",
    "lin_model_y_pred = lin_model.predict(X_test)\n",
    "lin_model_score = lin_model.score(X_test, y_test)\n",
    "print('the accuracy score of the lin model is ' + str(lin_model_score))"
   ]
  },
  {
   "cell_type": "code",
   "execution_count": 64,
   "id": "3dd2c5af-c1c8-45bb-bfb2-77b532785882",
   "metadata": {},
   "outputs": [],
   "source": [
    "# XGBoost (different learning rate)\n",
    "learning_rate_range = np.arange(0.01, 1, 0.05)\n",
    "test_XG = [] \n",
    "train_XG = []\n",
    "for lr in learning_rate_range:\n",
    "    xgb_classifier = xgb.XGBClassifier(eta = lr, eval_metric='error')\n",
    "    xgb_classifier.fit(X_train, y_train)\n",
    "    train_XG.append(xgb_classifier.score(X_train, y_train))\n",
    "    test_XG.append(xgb_classifier.score(X_test, y_test))"
   ]
  },
  {
   "cell_type": "code",
   "execution_count": 65,
   "id": "d57312ea-e1e0-4588-8250-56025b1273ec",
   "metadata": {},
   "outputs": [
    {
     "data": {
      "image/png": "[encoded data removed]",
      "text/plain": [
       "<Figure size 720x504 with 1 Axes>"
      ]
     },
     "metadata": {
      "needs_background": "light"
     },
     "output_type": "display_data"
    }
   ],
   "source": [
    "#XGBoost plot\n",
    "fig = plt.figure(figsize=(10, 7))\n",
    "plt.plot(learning_rate_range, train_XG, c='orange', label='Train')\n",
    "plt.plot(learning_rate_range, test_XG, c='m', label='Test')\n",
    "plt.xlabel('Learning rate')\n",
    "plt.xticks(learning_rate_range)\n",
    "plt.ylabel('Accuracy score')\n",
    "plt.ylim(0.6, 1)\n",
    "plt.legend(prop={'size': 12}, loc=3)\n",
    "plt.title('Accuracy score vs. Learning rate of XGBoost', size=14)\n",
    "plt.show()"
   ]
  },
  {
   "cell_type": "code",
   "execution_count": 66,
   "id": "719bfd67-78c4-477d-adf0-2e5872a2b839",
   "metadata": {},
   "outputs": [
    {
     "name": "stdout",
     "output_type": "stream",
     "text": [
      "the recall score of the xgboost model is: 0.7532613269743302\n",
      "the precision score of the xgboost model is: 0.7132421304290079\n",
      "the f1 score of the xgboost model is: 0.732705689725747\n"
     ]
    }
   ],
   "source": [
    "#XGBoost Metrics\n",
    "xgb_classifier_predictions = xgb_classifier.predict(X_test)\n",
    "\n",
    "xgb_classifier_predictions = [round(value) for value in xgb_classifier_predictions]\n",
    "\n",
    "xgb_recall = recall_score(y_test, xgb_classifier_predictions)\n",
    "print('the recall score of the xgboost model is: ' + str(xgb_recall))\n",
    "xgb_precision = precision_score(y_test, xgb_classifier_predictions)\n",
    "print('the precision score of the xgboost model is: ' + str(xgb_precision))\n",
    "xgb_f1 = f1_score(y_test, xgb_classifier_predictions)\n",
    "print('the f1 score of the xgboost model is: ' + str(xgb_f1))"
   ]
  },
  {
   "cell_type": "code",
   "execution_count": 67,
   "id": "7453b01d-97f7-4b3d-af6b-48ae8416a9f8",
   "metadata": {},
   "outputs": [
    {
     "name": "stdout",
     "output_type": "stream",
     "text": [
      "the recall score of the random forest model is: 0.7334234490608993\n",
      "the precision score of the random forest model is: 0.7339040354718572\n",
      "the f1 score of the random forest model is: 0.7331232289683687\n"
     ]
    }
   ],
   "source": [
    "#now trying random forest\n",
    "from sklearn.ensemble import RandomForestClassifier\n",
    "\n",
    "rfc = RandomForestClassifier(max_depth=2, random_state=0)\n",
    "\n",
    "rfc.fit(X_train, y_train)\n",
    "\n",
    "rfc_predictions = rfc.predict(X_test)\n",
    "rfc_predictions = [round(value) for value in rfc_predictions]\n",
    "rfc_recall = recall_score(y_test, rfc_predictions, average='weighted', labels=np.unique(rfc_predictions))\n",
    "print('the recall score of the random forest model is: ' + str(rfc_recall))\n",
    "rfc_precision = precision_score(y_test, rfc_predictions, average='weighted', labels=np.unique(rfc_predictions))\n",
    "print('the precision score of the random forest model is: ' + str(rfc_precision))\n",
    "rfc_f1 = f1_score(y_test, rfc_predictions, average='weighted', labels=np.unique(rfc_predictions))\n",
    "print('the f1 score of the random forest model is: ' + str(rfc_f1))"
   ]
  },
  {
   "cell_type": "code",
   "execution_count": null,
   "id": "d0f68d77-a3ad-4c34-a911-7dd76f2f4295",
   "metadata": {},
   "outputs": [],
   "source": []
  },
  {
   "cell_type": "code",
   "execution_count": null,
   "id": "ea4c480f-8493-4b14-9bdc-53ea0f3b25df",
   "metadata": {},
   "outputs": [],
   "source": []
  },
  {
   "cell_type": "code",
   "execution_count": null,
   "id": "6ee5c6b1-d860-4592-9d86-b4dabda0c84b",
   "metadata": {},
   "outputs": [],
   "source": []
  },
  {
   "cell_type": "code",
   "execution_count": null,
   "id": "46386612-9e10-42b7-9763-5511fa3755bf",
   "metadata": {},
   "outputs": [],
   "source": []
  }
 ],
 "metadata": {
  "kernelspec": {
   "display_name": "Python 3 (ipykernel)",
   "language": "python",
   "name": "python3"
  },
  "language_info": {
   "codemirror_mode": {
    "name": "ipython",
    "version": 3
   },
   "file_extension": ".py",
   "mimetype": "text/x-python",
   "name": "python",
   "nbconvert_exporter": "python",
   "pygments_lexer": "ipython3",
   "version": "3.9.7"
  }
 },
 "nbformat": 4,
 "nbformat_minor": 5
}
